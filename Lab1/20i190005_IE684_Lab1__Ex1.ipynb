{
  "nbformat": 4,
  "nbformat_minor": 0,
  "metadata": {
    "colab": {
      "name": "20i190005_IE684_Lab1__Ex1.ipynb",
      "provenance": [],
      "collapsed_sections": []
    },
    "kernelspec": {
      "name": "python3",
      "display_name": "Python 3"
    }
  },
  "cells": [
    {
      "cell_type": "markdown",
      "metadata": {
        "id": "nVE0Xoa0Q5wE"
      },
      "source": [
        "$\\Large\\textbf{Welcome to IE 684 (Spring 2020-21)}$  \n",
        "\n",
        "$\\large\\textbf{Lab 1 Exercise 1. }$\n",
        "\n",
        "We will start with a procedure which helps to find a minimizer of the function $f(\\mathbf{x})=f(x_1,x_2)= (x_1+100)^2 + (x_2-25)^2$. \n",
        "\n",
        "We will use the following gradient descent type algorithm: \n",
        "\n",
        "\\begin{align}\n",
        "& \\textbf{Input:} \\text{ Starting point $x^0$, Stopping tolerance $\\tau$, Steplength $\\eta$}  \\\\\n",
        "& \\textbf{Initialize } k=0 \\\\ \n",
        "&\\textbf{While } \\| \\nabla f(\\mathbf{x}^k) \\|_2 > \\tau \\text{ do:}  \\\\   \n",
        "&\\quad \\quad \\mathbf{x}^{k+1} \\leftarrow \\mathbf{x}^k - \\eta \\nabla f(\\mathbf{x}^k)  \\\\ \n",
        "&\\quad \\quad k = {k+1} \\\\ \n",
        "&\\textbf{End While} \\\\\n",
        "&\\textbf{Output: } \\mathbf{x}^k\n",
        "\\end{align}\n"
      ]
    },
    {
      "cell_type": "code",
      "metadata": {
        "id": "KJq7tIgIRroP"
      },
      "source": [
        "#numpy package will be used for most of our lab exercises. Please have a look at https://numpy.org/doc/1.19/ for numpy documentation\n",
        "#we will first import the numpy package and name it as np\n",
        "import numpy as np \n",
        "#Henceforth, we can lazily use np to denote the much longer numpy !! "
      ],
      "execution_count": 121,
      "outputs": []
    },
    {
      "cell_type": "code",
      "metadata": {
        "id": "GZjX2IwOR8_X"
      },
      "source": [
        "#Now we will define a function which will compute and return the function value \n",
        "def evalf(x):  \n",
        "  #Input: x is a numpy array of size 2 \n",
        "  assert type(x) is np.ndarray \n",
        "  assert len(x) == 2 #do not allow arbitrary arguments \n",
        "  #after checking if the argument is valid, we can compute the objective function value\n",
        "  return (x[0]+100)**2 + (x[1]-25)**2\n"
      ],
      "execution_count": 122,
      "outputs": []
    },
    {
      "cell_type": "code",
      "metadata": {
        "id": "hu_eWNWHTg64"
      },
      "source": [
        "#check whether you can pass arbitrary arguments to evalf \n",
        "#my_x = [1,3] #Note: my_x is a list of 2 elements, but not a numpy array\n",
        "#print('f(my_x) is:',evalf(my_x))"
      ],
      "execution_count": 123,
      "outputs": []
    },
    {
      "cell_type": "code",
      "metadata": {
        "colab": {
          "base_uri": "https://localhost:8080/"
        },
        "id": "JhgbIivdTshs",
        "outputId": "32821363-f3e4-475a-8497-320342eb5b91"
      },
      "source": [
        "# First we will create a numpy array of size 2\n",
        "my_x = np.array([1,2])\n",
        "print('type of my_x',type(my_x), 'length of my_x:',len(my_x)) #verify if my_x is indeed a numpy array of size 2\n"
      ],
      "execution_count": 124,
      "outputs": [
        {
          "output_type": "stream",
          "name": "stdout",
          "text": [
            "type of my_x <class 'numpy.ndarray'> length of my_x: 2\n"
          ]
        }
      ]
    },
    {
      "cell_type": "code",
      "metadata": {
        "id": "o6Iky9aOT78d"
      },
      "source": [
        "#now call evalf (x) with my_x as argument and check if it works\n",
        "#print(evalf(my_x))"
      ],
      "execution_count": 125,
      "outputs": []
    },
    {
      "cell_type": "code",
      "metadata": {
        "id": "6klpwtDra_I8"
      },
      "source": [
        "#Now we will define a function which will compute and return the gradient value as a numpy array \n",
        "def evalg(x):  \n",
        "  #Input: x is a numpy array of size 2 \n",
        "  assert type(x) is np.ndarray and len(x) == 2 #do not allow arbitrary arguments \n",
        "  #after checking if the argument is valid, we can compute the gradient value\n",
        "  return np.array([2*(x[0]+100),2*(x[1]-25)])"
      ],
      "execution_count": 126,
      "outputs": []
    },
    {
      "cell_type": "code",
      "metadata": {
        "id": "3SCJdqivdpxx"
      },
      "source": [
        "def find_minimizer(start_x, tol, step_length):\n",
        "  #Input: start_x is a numpy array of size 2, tol denotes the tolerance and is a positive float value\n",
        "  assert type(start_x) is np.ndarray and len(start_x) == 2 #do not allow arbitrary arguments \n",
        "  assert type(tol) is float and tol>=0 \n",
        "  assert type(step_length) is float and step_length>=0 \n",
        "  x = start_x\n",
        "  g_x = evalg(x)\n",
        "  k = 0\n",
        "\n",
        "  #we can manage a list to store the function values, might be useful for plotting \n",
        "  fvals = [evalf(x)]\n",
        "  #print('iter:',k, ' x:', x, ' f(x):', evalf(x), ' grad at x:', g_x, ' gradient norm:', np.linalg.norm(g_x))\n",
        "\n",
        "  while (np.linalg.norm(g_x) > tol): #continue as long as the norm of gradient is not close to zero upto a tolerance tol\n",
        "    x = np.subtract(x, np.multiply(step_length,g_x)) #update x = x - step_length*g_x\n",
        "    k += 1 #increment iteration\n",
        "    g_x = evalg(x) #compute gradient at new point\n",
        "\n",
        "    #append the current function value to the list containing function values\n",
        "    fvals.append(evalf(x))\n",
        "    #print('iter:',k, ' x:', x, ' f(x):', evalf(x), ' grad at x:', g_x, ' gradient norm:', np.linalg.norm(g_x))\n",
        "  return x, fvals, k\n"
      ],
      "execution_count": 127,
      "outputs": []
    },
    {
      "cell_type": "code",
      "metadata": {
        "colab": {
          "base_uri": "https://localhost:8080/"
        },
        "id": "n-kHCkbwe-M4",
        "outputId": "8fa21b56-6a8d-4d7d-928c-a13d50a978d0"
      },
      "source": [
        "my_start_x = np.array([10,10])\n",
        "my_steplength = 0.1\n",
        "my_tol= 1e-3 #10^{-3} or 0.001\n",
        "opt_x, fvals_ret, k = find_minimizer(my_start_x, my_tol, my_steplength)\n",
        "print(\"Final Minimizer:\", opt_x, \", Objective value:\",fvals_ret[-1])"
      ],
      "execution_count": 128,
      "outputs": [
        {
          "output_type": "stream",
          "name": "stdout",
          "text": [
            "Final Minimizer: [-99.99958844  24.99994388] , Objective value: 1.7253033717248775e-07\n"
          ]
        }
      ]
    },
    {
      "cell_type": "code",
      "metadata": {
        "id": "Ft_3BxMzfREx",
        "colab": {
          "base_uri": "https://localhost:8080/",
          "height": 279
        },
        "outputId": "d4abf6a0-c221-4255-8e0e-8f33dd13aeba"
      },
      "source": [
        "#we will plot the function values and check the behavior\n",
        "import matplotlib.pyplot as plt #package useful for plotting\n",
        "plt.plot(fvals_ret)\n",
        "plt.xlabel('Iterations')\n",
        "plt.ylabel('f(x)')\n",
        "plt.show()"
      ],
      "execution_count": 129,
      "outputs": [
        {
          "output_type": "display_data",
          "data": {
            "image/png": "[encoded data removed]",
            "text/plain": [
              "<Figure size 432x288 with 1 Axes>"
            ]
          },
          "metadata": {
            "needs_background": "light"
          }
        }
      ]
    },
    {
      "cell_type": "markdown",
      "metadata": {
        "id": "VdTY5UXuLnCC"
      },
      "source": [
        "$\\textbf{Question 2}: $\n",
        "$f(\\textbf{x}) = f(x_1, x_2) = (x_1 +100)^2 + (x_2 -25)^2 $\n",
        "\n",
        "Theoretically the minimizer and the munimum function value of $f(\\mathbf{x})$ is as follows:\n",
        "*   Minimizer: $(-100, 25)$\n",
        "*   Minimum function value: 0\n",
        "\n",
        "By using the above code with tolerance value $10^{-3}$, we got the minimizer and the munimum function value of $f(\\mathbf{x})$ as follows:\n",
        "*   Minimizer: $(-99.99958844, 24.9999488)$\n",
        "*   Minimum function value: $1.72533033717248775 \\times 10^{-07}$\n",
        "\n",
        "Here we can see that $0$ and $1.9730230936739685 \\times 10^{-07}$ are so close and acceptably equal with tolerance value $10^{-3}$. Hense by round-off, we can say that $(-100, 25)$ is the minimizer and $0$ is the minimum funtion value."
      ]
    },
    {
      "cell_type": "markdown",
      "metadata": {
        "id": "khZWHqgwPbMp"
      },
      "source": [
        "$\\textbf{Question 3}: $\n",
        "$f(\\textbf{x}) = f(x_1, x_2) = (x_1 +100)^2 + (x_2 -25 )^2 $\n",
        "\n",
        "Here, we studied the behavior of the algorithm for different\n",
        "tolerance values for $\\tau = 10^{-p}$, where $p= 1, 2,..., 10$. For each $\\tau$ , we recorded the final minimizer, final objective\n",
        "function value and number of iterations taken by the algorithm to terminate. We prepared a plot where the number of iterations is plotted against $\\tau$ values."
      ]
    },
    {
      "cell_type": "code",
      "metadata": {
        "colab": {
          "base_uri": "https://localhost:8080/",
          "height": 664
        },
        "id": "FkMSEUAMSnxF",
        "outputId": "c8cc8e85-c178-4301-a46c-ab2a78deec61"
      },
      "source": [
        "my_start_x = np.array([10,10])\n",
        "my_steplength = 0.1\n",
        "tau_values = []\n",
        "iterations_value = []\n",
        "for i in range(1,11):\n",
        "  tau_values.append(10**-i)\n",
        "  my_tol = 10**(-i) #10^{-3} or 0.001\n",
        "  opt_x, fvals_ret, iterations_count = find_minimizer(my_start_x, my_tol, my_steplength)\n",
        "  iterations_value.append(iterations_count)\n",
        "  print(\"Tolerance value\", my_tol, \", Final minimizer:\", opt_x, \", Objective function value:\", fvals_ret[-1], \"and No. of iterations to terminate:\", iterations_count, \"\\n\")\n",
        "plt.plot(tau_values, iterations_value)\n",
        "plt.title(\"Graph of number of iterations against Tolerance values\")\n",
        "plt.xlabel(r'$\\tau$ values')\n",
        "plt.ylabel('Iterations')\n",
        "plt.show()"
      ],
      "execution_count": 130,
      "outputs": [
        {
          "output_type": "stream",
          "name": "stdout",
          "text": [
            "Tolerance value 0.1 , Final minimizer: [-99.9553787   24.99391528] , Objective function value: 0.0020280843668995063 and No. of iterations to terminate: 35 \n",
            "\n",
            "Tolerance value 0.01 , Final minimizer: [-99.99520882  24.99934666] , Objective function value: 2.3382220797474075e-05 and No. of iterations to terminate: 45 \n",
            "\n",
            "Tolerance value 0.001 , Final minimizer: [-99.99958844  24.99994388] , Objective function value: 1.7253033717248775e-07 and No. of iterations to terminate: 56 \n",
            "\n",
            "Tolerance value 0.0001 , Final minimizer: [-99.99995581  24.99999397] , Objective function value: 1.989139359193299e-09 and No. of iterations to terminate: 66 \n",
            "\n",
            "Tolerance value 1e-05 , Final minimizer: [-99.99999526  24.99999935] , Objective function value: 2.293321544605827e-11 and No. of iterations to terminate: 76 \n",
            "\n",
            "Tolerance value 1e-06 , Final minimizer: [-99.99999959  24.99999994] , Objective function value: 1.6921726745458407e-13 and No. of iterations to terminate: 87 \n",
            "\n",
            "Tolerance value 1e-07 , Final minimizer: [-99.99999996  24.99999999] , Objective function value: 1.950942200128245e-15 and No. of iterations to terminate: 97 \n",
            "\n",
            "Tolerance value 1e-08 , Final minimizer: [-100.   25.] , Objective function value: 2.249273021138356e-17 and No. of iterations to terminate: 107 \n",
            "\n",
            "Tolerance value 1e-09 , Final minimizer: [-100.   25.] , Objective function value: 1.6597088735501767e-19 and No. of iterations to terminate: 118 \n",
            "\n",
            "Tolerance value 1e-10 , Final minimizer: [-100.   25.] , Objective function value: 1.9135732950098918e-21 and No. of iterations to terminate: 128 \n",
            "\n"
          ]
        },
        {
          "output_type": "display_data",
          "data": {
            "image/png": "[encoded data removed]",
            "text/plain": [
              "<Figure size 432x288 with 1 Axes>"
            ]
          },
          "metadata": {
            "needs_background": "light"
          }
        }
      ]
    },
    {
      "cell_type": "markdown",
      "metadata": {
        "id": "jiDZxrNJgbgl"
      },
      "source": [
        "$\\tau$ value | Final minimizer | Objective function value | No. of Iterations to terminate\n",
        ":---:|:---:|:---:|:---:\n",
        "$10^{-1}$|( -99.9553787   24.99391528)| 0.0020280843668995063|35\n",
        "$10^{-2}$|( -99.99520882  24.99934666 )|2.3382220797474075e-05|45\n",
        "$10^{-3}$|(-99.99958844  24.99994388)|1.7253033717248775e-07|56\n",
        "$10^{-4}$|(-99.99995581  24.99999397)|1.989139359193299e-09|66\n",
        "$10^{-5}$|( -99.99999526  24.99999935 )|2.293321544605827e-11|76\n",
        "$10^{-6}$|(-99.99999959  24.99999994 )|1.6921726745458407e-13|87\n",
        "$10^{-7}$|(-99.99999996  24.99999999)|1.950942200128245e-15|97\n",
        "$10^{-8}$|(-100,25)|2.249273021138356e-17|107\n",
        "$10^{-9}$|(-100,25)|1.6597088735501767e-19|118\n",
        "$10^{-10}$|(-100, 25)|1.9135732950098918e-21|128\n",
        "\n"
      ]
    },
    {
      "cell_type": "markdown",
      "metadata": {
        "id": "_N_S6SprBLpF"
      },
      "source": [
        "Here we see in the graph and in the table that when a tolerance value decreases that is $p$ increases, the number of iterations required for convergence also increases. Since tolerance is indicator of tolerance of error, if we want to reduce the error, then definitely we are taking more iterations to run the program to minimize error so that we get very close solution."
      ]
    },
    {
      "cell_type": "markdown",
      "metadata": {
        "id": "6ufNlWkVCTy2"
      },
      "source": [
        "When tolerance value decreases, the objective value is converging to zero. When tolerance value decreases, the minimizer is also converging to $(-100,25)$. This thing is happening because tolerance value is nothing but the accuracy of the solution. Therefore when we increase accuracy in the error, we are getting solution close to original solution. After certain stage, we get $(-100,25)$ as a minimizer which is the theoratical minimizer. We can see that $10^{-25} \\approx 0$. So by decreasing tolerance, we are getting better and close solution."
      ]
    },
    {
      "cell_type": "markdown",
      "metadata": {
        "id": "bzDCDUOVPtpT"
      },
      "source": [
        "$\\textbf{Question 4}: $\n",
        "\n",
        "\n",
        "In the following code, we try different values of $\\eta$ from the set $\\{ 0.0001, 0.001, 0.01, 0.1, 0.2, 0.4, 0.5, 0.6, 0.7, 0.8, 0.9\\}$ and obtain the minimizer, the objective value and the required number of iterations."
      ]
    },
    {
      "cell_type": "code",
      "metadata": {
        "colab": {
          "base_uri": "https://localhost:8080/",
          "height": 701
        },
        "id": "DA8d_oq4E3E7",
        "outputId": "c3df30c4-f9d4-42c2-9a8b-00fcc5084e06"
      },
      "source": [
        "my_start_x = np.array([10,10])\n",
        "my_tol = 10**(-5)\n",
        "my_steplength_values = [0.0001, 0.001, 0.01,0.1, 0.2, 0.4, 0.5, 0.6, 0.7, 0.8, 0.9]\n",
        "iterations_value = []\n",
        "for i in my_steplength_values:\n",
        "  my_steplength = i #10^{-4} or 0.0001\n",
        "  opt_x, fvals_ret, iterations_count = find_minimizer(my_start_x, my_tol, my_steplength)\n",
        "  iterations_value.append(iterations_count)\n",
        "  print(\"Steplength value\", my_steplength, \", Final minimizer:\", opt_x, \", Objective function value:\", fvals_ret[-1], \"and Number of iterations to terminate:\", iterations_count, \"\\n\")\n",
        "plt.plot(my_steplength_values, iterations_value)\n",
        "plt.title(\"Graph of number of iterations against Step sizes\")\n",
        "plt.xlabel(r'$\\eta$ values')\n",
        "plt.ylabel('Iterations')\n",
        "plt.show()"
      ],
      "execution_count": 131,
      "outputs": [
        {
          "output_type": "stream",
          "name": "stdout",
          "text": [
            "Steplength value 0.0001 , Final minimizer: [-99.99999505  24.99999932] , Objective function value: 2.49936770204995e-11 and Number of iterations to terminate: 84571 \n",
            "\n",
            "Steplength value 0.001 , Final minimizer: [-99.99999505  24.99999933] , Objective function value: 2.494219709847674e-11 and Number of iterations to terminate: 8450 \n",
            "\n",
            "Steplength value 0.01 , Final minimizer: [-99.99999512  24.99999933] , Objective function value: 2.4304673044883465e-11 and Number of iterations to terminate: 838 \n",
            "\n",
            "Steplength value 0.1 , Final minimizer: [-99.99999526  24.99999935] , Objective function value: 2.293321544605827e-11 and Number of iterations to terminate: 76 \n",
            "\n",
            "Steplength value 0.2 , Final minimizer: [-99.99999685  24.99999957] , Objective function value: 1.011747066175869e-11 and Number of iterations to terminate: 34 \n",
            "\n",
            "Steplength value 0.4 , Final minimizer: [-99.99999775  24.99999969] , Objective function value: 5.169479687800271e-12 and Number of iterations to terminate: 11 \n",
            "\n",
            "Steplength value 0.5 , Final minimizer: [-100.   25.] , Objective function value: 0.0 and Number of iterations to terminate: 1 \n",
            "\n",
            "Steplength value 0.6 , Final minimizer: [-100.00000225   25.00000031] , Objective function value: 5.169479687800271e-12 and Number of iterations to terminate: 11 \n",
            "\n",
            "Steplength value 0.7 , Final minimizer: [-100.00000302   25.00000041] , Objective function value: 9.312506683476372e-12 and Number of iterations to terminate: 19 \n",
            "\n",
            "Steplength value 0.8 , Final minimizer: [-99.99999685  24.99999957] , Objective function value: 1.011747066175869e-11 and Number of iterations to terminate: 34 \n",
            "\n",
            "Steplength value 0.9 , Final minimizer: [-99.99999526  24.99999935] , Objective function value: 2.293321544605827e-11 and Number of iterations to terminate: 76 \n",
            "\n"
          ]
        },
        {
          "output_type": "display_data",
          "data": {
            "image/png": "[encoded data removed]",
            "text/plain": [
              "<Figure size 432x288 with 1 Axes>"
            ]
          },
          "metadata": {
            "needs_background": "light"
          }
        }
      ]
    },
    {
      "cell_type": "markdown",
      "metadata": {
        "id": "WLlz2ldohFxS"
      },
      "source": [
        "$\\eta$ | Final minimizer | Objective function value | No. of Iterations to terminate\n",
        ":---:|:---:|:---:|:---:\n",
        "0.0001|( -99.99999505  24.99999932)|2.49936770204995e-11|84571\n",
        "0.001|(-99.99999505  24.99999933 )| 2.494219709847674e-11 |8450\n",
        "0.01|(-99.99999512  24.99999933 )|2.4304673044883465e-11|838\n",
        "0.1|(-99.99999526  24.99999935  )|2.293321544605827e-11|76\n",
        "0.2|(-99.99999685  24.99999957)|1.011747066175869e-11|34\n",
        "0.4|( -99.99999775  24.99999969)|5.169479687800271e-12|11\n",
        "0.5|(-100.   25 )|0.0|1\n",
        "0.6|(-100.00000225   25.00000031)|5.169479687800271e-12|11\n",
        "0.7|(-100.00000302   25.00000041  )|9.312506683476372e-12|19\n",
        "0.8|( -99.99999685  24.99999957)|1.011747066175869e-11|34\n",
        "0.9|(-99.99999526  24.99999935)|2.293321544605827e-11|76\n"
      ]
    },
    {
      "cell_type": "markdown",
      "metadata": {
        "id": "hAEtAEK-QyoU"
      },
      "source": [
        "From the above graph and table, we see that as $\\eta$ increases from $0.001$ to $0.5$, the objective value is decreasing and converging to $0$. Similar thing is happening with the minimizer. i.e., minimizer is converging to $(-100,25)$ as $\\eta$ increases from $0.0001$ to $0.5$. For $\\eta$ from $0.5$ to $0.9$, the objective function is increasing and diverging from $0$ and similarly, the minimizer is diverging from $(-100,25)$ as $\\eta$ increases from $0.5$ to $0.9$.\n",
        "\n",
        "From the above observations, we observed that $0.5$ is the ideal value for $\\eta$ amongst the given set of values. Among all vaues of $\\eta$ from the given set, for $\\eta = 0.5$, the objective function value is very close to $0$ and the minimizer is equal to $(-100,25)$ which is the real value of minimizer. Therefore 0.5 is the best choice of the step size."
      ]
    },
    {
      "cell_type": "markdown",
      "metadata": {
        "id": "s9VnL9HOTRqp"
      },
      "source": [
        "$\\textbf{Question 5}: $\n",
        "\n",
        "For different starting points, i.e., $x^0 \\in \\{(10000, 10000), (500, 0), (0, 1000), (1, 1), (-500, -2)\\}$, we obtain the minimizer, the objective value and the required number of iterations taken to converge the algorithm."
      ]
    },
    {
      "cell_type": "code",
      "metadata": {
        "colab": {
          "base_uri": "https://localhost:8080/"
        },
        "id": "k2JBZZCLICMx",
        "outputId": "9179a5f6-5679-4992-b0e8-043cac96dbce"
      },
      "source": [
        "my_start_x_values = [(10000, 10000), (500, 0), (0, 1000), (1, 1), (-500, -2)]\n",
        "my_tol = 10**(-5)\n",
        "my_steplength = 0.1\n",
        "iterations_value = []\n",
        "for i in my_start_x_values:\n",
        "  my_start_x = np.array(i) #10^{-3} or 0.001\n",
        "  opt_x, fvals_ret, iterations_count = find_minimizer(my_start_x, my_tol, my_steplength)\n",
        "  iterations_value.append(iterations_count)\n",
        "  print(\"Starting point\", i, \", Final minimizer:\", opt_x, \", Objective function value:\", fvals_ret[-1], \"and Number of iterations to terminate:\", iterations_count, \"\\n\")"
      ],
      "execution_count": 132,
      "outputs": [
        {
          "output_type": "stream",
          "name": "stdout",
          "text": [
            "Starting point (10000, 10000) , Final minimizer: [-99.99999679  25.00000317] , Objective function value: 2.0414342669998657e-11 and Number of iterations to terminate: 98 \n",
            "\n",
            "Starting point (500, 0) , Final minimizer: [-99.99999566  24.99999982] , Objective function value: 1.888746375147865e-11 and Number of iterations to terminate: 84 \n",
            "\n",
            "Starting point (0, 1000) , Final minimizer: [-99.99999954  25.00000452] , Objective function value: 2.060780080476227e-11 and Number of iterations to terminate: 86 \n",
            "\n",
            "Starting point (1, 1) , Final minimizer: [-99.99999564  24.99999896] , Objective function value: 2.0052840841640608e-11 and Number of iterations to terminate: 76 \n",
            "\n",
            "Starting point (-500, -2) , Final minimizer: [-100.00000452   24.99999969] , Objective function value: 2.055190630073527e-11 and Number of iterations to terminate: 82 \n",
            "\n"
          ]
        }
      ]
    },
    {
      "cell_type": "markdown",
      "metadata": {
        "id": "H3ZzB2tFhcew"
      },
      "source": [
        "$x^0$ | Final minimizer | Objective function value | No. of Iterations to terminate\n",
        ":---:|:---:|:---:|:---:\n",
        "(10000, 10000)|(-99.99999679  25.00000317)|2.0414342669998657e-11|98\n",
        "(500, 0)|(-99.99999566  24.99999982)|1.888746375147865e-11 |84\n",
        "(0,1000 )|(-99.99999954  25.00000452)|2.060780080476227e-11|86\n",
        "(1, 1)|(-99.99999564, 24.99999896)|2.0052840841640608e-11|76\n",
        "(-500, -2)|(-100.00000452, 24.99999969        )|2.055190630073527e-11|82"
      ]
    },
    {
      "cell_type": "markdown",
      "metadata": {
        "id": "qeMnu0-sUVrU"
      },
      "source": [
        "From above table, we see that when initial point $x^0$ is away from the final minimizer, i.e., $(-100,25)$, the iterations taken by the algorithm are more as compared to the points near to the final minimizer. For example, iterations equired to converge when initial point is $(10000,10000)$ are $98$, where the iterations required for converging when initial point is $(-500,-2)$ are 82. So the algorithm converges early if we have points near to final minimizers."
      ]
    },
    {
      "cell_type": "code",
      "metadata": {
        "id": "w_7AMB3645md"
      },
      "source": [
        ""
      ],
      "execution_count": 132,
      "outputs": []
    }
  ]
}