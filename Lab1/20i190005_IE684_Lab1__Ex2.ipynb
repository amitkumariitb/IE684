{
  "nbformat": 4,
  "nbformat_minor": 0,
  "metadata": {
    "colab": {
      "name": "20i190005_IE684_Lab1__Ex2.ipynb",
      "provenance": [],
      "collapsed_sections": []
    },
    "kernelspec": {
      "name": "python3",
      "display_name": "Python 3"
    }
  },
  "cells": [
    {
      "cell_type": "markdown",
      "metadata": {
        "id": "nVE0Xoa0Q5wE"
      },
      "source": [
        "$\\Large\\textbf{Lab 1. Exercise 2. }$\n",
        "\n",
        "Now we will consider a slightly different algorithm which can be used to find a minimizer of the function $f(\\mathbf{x})=f(x_1,x_2)= (x_1+100)^2 + (x_2-25)^2$. "
      ]
    },
    {
      "cell_type": "markdown",
      "metadata": {
        "id": "0gpe6eGRLvSh"
      },
      "source": [
        "$\\textbf{[R]}$ Write the function $f(\\mathbf{x})$ in the form $\\mathbf{x}^\\top \\mathbf{A} \\mathbf{x} + 2 \\mathbf{b}^\\top \\mathbf{x} + c$, where $\\mathbf{x}\\in {\\mathbb{R}}^2$, $\\mathbf{A}$ is a symmetric matrix of size $2 \\times 2$, $\\mathbf{b}\\in{\\mathbb{R}}^2$ and $c\\in\\mathbb{R}$. \n",
        "\n"
      ]
    },
    {
      "cell_type": "markdown",
      "metadata": {
        "id": "CTPeLBt0L7F7"
      },
      "source": [
        "Write your answer here:\n",
        "\n",
        "\n",
        "\n",
        "Here, $A =\n",
        "\\begin{bmatrix}\n",
        "1 & 0\\\\\n",
        "0 & 1\n",
        "\\end{bmatrix},\n",
        "b = \\begin{bmatrix}\n",
        "-10\\\\\n",
        "2\n",
        "\\end{bmatrix}, c = 104$\n",
        "\n",
        "\n",
        "\n",
        "$\\therefore f(\\mathbf{x}) =  \\mathbf{x}^\\top \\mathbf{A} \\mathbf{x} + 2 \\mathbf{b}^\\top \\mathbf{x} + c =\\mathbf{x}^\\top \\begin{bmatrix}\n",
        "1 & 0\\\\\n",
        "0 & 1\n",
        "\\end{bmatrix}\\mathbf{x} + 2\\begin{bmatrix}\n",
        "-10\\\\\n",
        "2\n",
        "\\end{bmatrix}^\\top \\mathbf{x} + 104$"
      ]
    },
    {
      "cell_type": "markdown",
      "metadata": {
        "id": "PjANnIQ3L39D"
      },
      "source": [
        "\n",
        "$\\textbf{[R]}$ It turns out that for a function $f:{\\mathbb{R}}^n\\rightarrow \\mathbb{R}$ of the form $f(\\mathbf{x})=\\mathbf{x}^\\top \\mathbf{A} \\mathbf{x} + 2 \\mathbf{b}^\\top \\mathbf{x} + c$, where $\\mathbf{A}\\in{\\mathbb{R}}^{n \\times n}$ is a symmetric matrix, $\\mathbf{b} \\in {\\mathbb{R}}^n$ and $c\\in \\mathbb{R}$, the analytical solution to $\\min_{\\alpha \\geq 0} f(\\mathbf{x} - \\alpha \\nabla f(\\mathbf{x}))$ can be found in closed form. Find the solution. "
      ]
    },
    {
      "cell_type": "markdown",
      "metadata": {
        "id": "4jU-adJ0L-P1"
      },
      "source": [
        "Write your answer here:\n",
        "\n",
        "\n",
        "Let \n",
        "\\begin{align}\n",
        "g(\\alpha) &= f(x - \\alpha \\nabla f(x)) \\\\\n",
        "\\Rightarrow g'(\\alpha) &= (-\\nabla f(x)^\\top )(\\nabla f(x - \\alpha \\nabla f(x))) \\\\\n",
        "          &= (-\\nabla f(x)^\\top )(2 A(x - \\alpha \\nabla f(x)) + 2b) \\\\\n",
        "          &= -2(\\nabla f(x)^\\top A x - \\alpha \\nabla f(x)^\\top A \\nabla f(x) + \\nabla f(x)^\\top b) \\\\\n",
        "\\end{align}\n",
        "To find minima,  $g'(\\alpha) = 0$\n",
        "\\begin{align}\n",
        "\\Rightarrow \\alpha \\nabla f(x)^\\top A \\nabla f(x) &= \\nabla f(x)^\\top (A + 2b)\\\\\n",
        "\\Rightarrow \\alpha \\nabla f(x)^\\top A \\nabla f(x) &= \\frac{\\nabla f(x)^\\top \\nabla f(x)}{2} \\\\\n",
        "\\Rightarrow \\alpha &= \\frac{\\nabla f(x)^\\top \\nabla f(x)}{2\\nabla f(x)^\\top A \\nabla f(x)} \n",
        "\\end{align}"
      ]
    },
    {
      "cell_type": "markdown",
      "metadata": {
        "id": "YVkab74DJsRL"
      },
      "source": [
        "We will use this idea to construct a suitable step length finding procedure for our modified algorithm given below: \n",
        "\n",
        "\n",
        "\\begin{align}\n",
        "& \\textbf{Input:} \\text{ Starting point $x^0$, Stopping tolerance $\\tau$}  \\\\\n",
        "& \\textbf{Initialize } k=0 \\\\ \n",
        "&\\textbf{While } \\| \\nabla f(\\mathbf{x}^k) \\|_2 > \\tau \\text{ do:}  \\\\   \n",
        "&\\quad \\quad \\eta^k = \\arg\\min_{\\eta\\geq 0} f(\\mathbf{x}^k - \\eta  \\nabla f(\\mathbf{x}^k)) \\\\\n",
        "&\\quad \\quad \\mathbf{x}^{k+1} \\leftarrow \\mathbf{x}^k - \\eta^k \\nabla f(\\mathbf{x}^k)  \\\\ \n",
        "&\\quad \\quad k = {k+1} \\\\ \n",
        "&\\textbf{End While} \\\\\n",
        "&\\textbf{Output: } \\mathbf{x}^k\n",
        "\\end{align}"
      ]
    },
    {
      "cell_type": "code",
      "metadata": {
        "id": "KJq7tIgIRroP"
      },
      "source": [
        "#numpy package will be used for most of our lab exercises. Please have a look at https://numpy.org/doc/1.19/ for numpy documentation\n",
        "#we will first import the numpy package and name it as np\n",
        "import numpy as np \n",
        "#Henceforth, we can lazily use np to denote the much longer numpy !! "
      ],
      "execution_count": 29,
      "outputs": []
    },
    {
      "cell_type": "code",
      "metadata": {
        "id": "GZjX2IwOR8_X"
      },
      "source": [
        "#Now we will define a function which will compute and return the function value \n",
        "def evalf(x):  \n",
        "  #Input: x is a numpy array of size 2 \n",
        "  assert type(x) is np.ndarray and len(x) == 2 #do not allow arbitrary arguments \n",
        "  #after checking if the argument is valid, we can compute the objective function value\n",
        "  return (x[0]+100)**2 + (x[1]-25)**2\n"
      ],
      "execution_count": 30,
      "outputs": []
    },
    {
      "cell_type": "code",
      "metadata": {
        "id": "6klpwtDra_I8"
      },
      "source": [
        "#Now we will define a function which will compute and return the gradient value as a numpy array \n",
        "def evalg(x):  \n",
        "  #Input: x is a numpy array of size 2 \n",
        "  assert type(x) is np.ndarray and len(x) == 2 #do not allow arbitrary arguments \n",
        "  #after checking if the argument is valid, we can compute the gradient value\n",
        "  return np.array([2*(x[0]+100),2*(x[1]-25)])"
      ],
      "execution_count": 31,
      "outputs": []
    },
    {
      "cell_type": "markdown",
      "metadata": {
        "id": "c7vmaZy5dTjE"
      },
      "source": [
        "$\\textbf{Question 3}: $\n"
      ]
    },
    {
      "cell_type": "code",
      "metadata": {
        "id": "f3blM08V0HOl"
      },
      "source": [
        "#Complete the module to compute the steplength\n",
        "def compute_steplength(x): #add appropriate arguments to the function \n",
        "  #Complete the code \n",
        "  A = np.identity(2)\n",
        "  g = evalg(x)\n",
        "  g_t = np.matrix.transpose(g)\n",
        "  step_length = np.matmul(g_t, g)/(2*np.matmul(np.matmul(g_t, A), g))\n",
        "  return step_length"
      ],
      "execution_count": 32,
      "outputs": []
    },
    {
      "cell_type": "code",
      "metadata": {
        "id": "3SCJdqivdpxx"
      },
      "source": [
        "def find_minimizer(start_x, tol):\n",
        "  #Input: start_x is a numpy array of size 2, tol denotes the tolerance and is a positive float value\n",
        "  assert type(start_x) is np.ndarray and len(start_x) == 2 #do not allow arbitrary arguments \n",
        "  assert type(tol) is float and tol>=0 \n",
        "  x = start_x\n",
        "  g_x = evalg(x)\n",
        "  k = 0\n",
        "  #print('iter:',k, ' x:', x, ' f(x):', evalf(x), ' grad at x:', g_x, ' gradient norm:', np.linalg.norm(g_x))\n",
        "\n",
        "  while (np.linalg.norm(g_x) > tol): #continue as long as the norm of gradient is not close to zero upto a tolerance tol\n",
        "    step_length = compute_steplength(x) #call the new function you wrote to compute the steplength\n",
        "    x = np.subtract(x, np.multiply(step_length,g_x)) #update x = x - step_length*g_x\n",
        "    k += 1 #increment iteration\n",
        "    g_x = evalg(x) #compute gradient at new point\n",
        "    #print('iter:',k, ' x:', x, ' f(x):', evalf(x), ' grad at x:', g_x, ' gradient norm:', np.linalg.norm(g_x))\n",
        "  return x, k, evalf(x)\n"
      ],
      "execution_count": 33,
      "outputs": []
    },
    {
      "cell_type": "code",
      "metadata": {
        "id": "n-kHCkbwe-M4",
        "colab": {
          "base_uri": "https://localhost:8080/"
        },
        "outputId": "4047f759-3c28-4842-cb8c-e3975c6adf4c"
      },
      "source": [
        "my_start_x = np.array([10,10])\n",
        "my_tol= 1e-3\n",
        "find_minimizer(my_start_x, my_tol)"
      ],
      "execution_count": 34,
      "outputs": [
        {
          "output_type": "execute_result",
          "data": {
            "text/plain": [
              "(array([-100.,   25.]), 1, 0.0)"
            ]
          },
          "metadata": {},
          "execution_count": 34
        }
      ]
    },
    {
      "cell_type": "markdown",
      "metadata": {
        "id": "oZcs0yGpIwDV"
      },
      "source": [
        "$\\textbf{Question 4}: $\n",
        "\n",
        "With the starting point $x^0 = (10, 10)$ and the new module to compute $\\eta ^k$, we try $ \\eta = 10^{-p}$, where $p = 1, 2,\\cdots, 10.$\n",
        "For each $\\eta$ , we record the number of iterations taken by the algorithm to terminate.\n"
      ]
    },
    {
      "cell_type": "code",
      "metadata": {
        "id": "GcsCIAntMNdb",
        "colab": {
          "base_uri": "https://localhost:8080/",
          "height": 297
        },
        "outputId": "253ca949-9d27-4cd2-f028-5410a702da57"
      },
      "source": [
        "my_start_x = np.array([10,10])\n",
        "iterations_counter = []\n",
        "tolerance_array = []\n",
        "for i in range(1,11):\n",
        "  my_tol= 10**-i\n",
        "  x, k, f_v = find_minimizer(my_start_x, my_tol)\n",
        "  iterations_counter.append(k)\n",
        "  tolerance_array.append(10**-i)\n",
        "import matplotlib.pyplot as plt\n",
        "plt.plot(tolerance_array, iterations_counter)\n",
        "plt.title(\"Graph of number of iterations against Tolerance values\")\n",
        "plt.xlabel(r'$\\tau$ values')\n",
        "plt.ylabel('Iterations')\n",
        "plt.show()"
      ],
      "execution_count": 35,
      "outputs": [
        {
          "output_type": "display_data",
          "data": {
            "image/png": "[encoded data removed]",
            "text/plain": [
              "<Figure size 432x288 with 1 Axes>"
            ]
          },
          "metadata": {
            "needs_background": "light"
          }
        }
      ]
    },
    {
      "cell_type": "code",
      "source": [
        ""
      ],
      "metadata": {
        "id": "toyyuSWbLcbj"
      },
      "execution_count": 35,
      "outputs": []
    },
    {
      "cell_type": "markdown",
      "metadata": {
        "id": "N7_NokutgczP"
      },
      "source": [
        "$f(\\mathbf{x})$ is a convex and quadratic function. Here in this exersize, we are using the exact line search because of that algorithm is directly converging to final minimizer within one loop. In the last exersize, we computed number of iterations for different step sizes, the ideal value of the step leangth was $0.5$ among the given values.\n",
        "\n",
        "Here plot is constant function where in the previous exersize we got different functions, we got more iterations to converge because of the fixed change in the step leangth. Here we use step length by finding the value of $\\min_{\\alpha \\geq 0} f(\\mathbf{x} - \\alpha \\nabla f(\\mathbf{x}))$. Since quaratic functions converges within one step if we use exact line search, algorithm is converging within one step irrespective of the initial point which was not the case in the last exersize."
      ]
    },
    {
      "cell_type": "code",
      "metadata": {
        "id": "kcR5z1jjgOru"
      },
      "source": [
        ""
      ],
      "execution_count": 35,
      "outputs": []
    }
  ]
}